{
 "cells": [
  {
   "cell_type": "markdown",
   "id": "f195761f-e689-4f8c-8d7f-e2fb838aac29",
   "metadata": {},
   "source": [
    "# [Datasets](https://docs.lightcast.dev/data-sets) of note\n",
    "  \n",
    "## Geographic \n",
    "- [US Industry by Month (Zip level)](https://docs.lightcast.dev/data-sets/us-industry-month-nation-state-msa-county-zip)\n",
    "- [Hires and Seperations (County level)](https://docs.lightcast.dev/data-sets/us-occupation-hires-and-separations-by-area-and-occupation)\n",
    "- [Staffing (Zip level)](https://docs.lightcast.dev/data-sets/us-staffing-patterns-nation-state-msa-county-zip-census-tract)\n",
    "- [Unemployment by Industry (County Level)](https://docs.lightcast.dev/data-sets/us-unemployment-by-industry)\n",
    "- \n",
    "## non-Geographic\n",
    "- [Salary by Position (No Geographical Granularity)](https://docs.lightcast.dev/data-sets/market-salary)\n",
    "- \n",
    "## extra\n",
    "- [Inter-State Migration](https://docs.lightcast.dev/data-sets/us-population-migration)\n",
    "- "
   ]
  },
  {
   "cell_type": "markdown",
   "id": "674d1489-d310-46d4-bb27-a162733fe03d",
   "metadata": {},
   "source": [
    "#### Notes\n",
    "- Many datasets have occupations referenced using a 5-Digit SOC which can be found at the [Bureau of Labor & Stats Website](https://www.bls.gov/oes/current/oes_stru.htm)\n",
    "- Some Datasets only go down to County Level, some go all the way down to Zip\n",
    "- All datasets are accessed using the [Core LMI](https://docs.lightcast.dev/apis/core-lmi) api, and as such meta data can be queried manually like so:\n",
    "```python\n",
    "  import requests\n",
    "\n",
    "url = \"https://agnitio.emsicloud.com/meta/dataset/emsi.us.industry/2024.2/Area/search/Latah\"\n",
    "\n",
    "headers = {\"Authorization\": \"bearer <access_token>\"}\n",
    "\n",
    "response = requests.request(\"GET\", url, headers=headers)\n",
    "\n",
    "print(response.text)\n",
    "```\n"
   ]
  },
  {
   "cell_type": "code",
   "execution_count": 2,
   "id": "4ae6c603-e39d-4be8-ac7b-0fb6d461dcc8",
   "metadata": {},
   "outputs": [],
   "source": [
    "import requests"
   ]
  },
  {
   "cell_type": "markdown",
   "id": "e075e77e-72df-41d6-af0b-c9fba7cfa752",
   "metadata": {},
   "source": [
    "## oauth2.0 - get access_token"
   ]
  },
  {
   "cell_type": "code",
   "execution_count": 1,
   "id": "3ac15cae-4a52-4162-a64a-1ff15e0d4f2e",
   "metadata": {},
   "outputs": [],
   "source": [
    "creds = {\n",
    "    'client_id': '6hivg6ca9gcan05o',\n",
    "    'secret': '6sX8GlsB',\n",
    "    'scope': 'emsi_open'\n",
    "    }"
   ]
  },
  {
   "cell_type": "code",
   "execution_count": 9,
   "id": "73e825cf-195c-4fb5-a04d-56ce48f08158",
   "metadata": {},
   "outputs": [
    {
     "name": "stdout",
     "output_type": "stream",
     "text": [
      "<class 'dict'>\n"
     ]
    }
   ],
   "source": [
    "url = \"https://auth.emsicloud.com/connect/token\"\n",
    "payload = f\"client_id={creds['client_id']}&client_secret={creds['secret']}&grant_type=client_credentials&scope={creds['scope']}\"\n",
    "headers = {\"content-type\": \"application/x-www-form-urlencoded\"}\n",
    "\n",
    "response = requests.request(\"POST\", url, data=payload, headers=headers)\n",
    "oauth_response = response.json()\n"
   ]
  },
  {
   "cell_type": "markdown",
   "id": "a150ed4c-db5f-4b4b-98a2-169f85b0e6c4",
   "metadata": {},
   "source": [
    "```json\n",
    "{\n",
    "  \"access_token\": \"{your access_token will be here}\",\n",
    "  \"expires_in\": 3600,\n",
    "  \"token_type\": \"Bearer\"\n",
    "}\n",
    "```\n"
   ]
  },
  {
   "cell_type": "markdown",
   "id": "431c3fd2-a329-451d-914d-a92e5c1eec3d",
   "metadata": {},
   "source": [
    "## API payloads"
   ]
  },
  {
   "cell_type": "markdown",
   "id": "9ebfec64-2db7-4b80-beb4-3932ff3a7dca",
   "metadata": {},
   "source": [
    "### staffing patterns\n",
    "docs: https://docs.lightcast.dev/data-sets/us-staffing-patterns-nation-state-msa-county-zip-census-tract"
   ]
  },
  {
   "cell_type": "markdown",
   "id": "4e7df39d-725b-4f78-b0e4-35b821d0b712",
   "metadata": {},
   "source": [
    "#### metadata"
   ]
  },
  {
   "cell_type": "code",
   "execution_count": 10,
   "id": "e2a86368-3ce8-4b3b-abdd-4744f5bc24f4",
   "metadata": {},
   "outputs": [
    {
     "data": {
      "text/plain": [
       "''"
      ]
     },
     "execution_count": 10,
     "metadata": {},
     "output_type": "execute_result"
    }
   ],
   "source": [
    "dataset_url = 'https://agnitio.emsicloud.com/meta/dataset/EMSI.us.Staffing/2025.1'\n",
    "headers = {\n",
    "    \"Authorization\": f\"bearer {oauth_response['access_token']}\",\n",
    "    \"Content-Type\": \"application/json\"\n",
    "}\n",
    "response = requests.request(\"GET\", dataset_url, headers=headers)\n",
    "response.text"
   ]
  },
  {
   "cell_type": "markdown",
   "id": "889953c3-d057-4c92-b874-54dabe0c929f",
   "metadata": {},
   "source": [
    "```json\n",
    "```"
   ]
  },
  {
   "cell_type": "code",
   "execution_count": 7,
   "id": "bed13d20-fef2-480f-9414-0a1a00621815",
   "metadata": {},
   "outputs": [],
   "source": [
    "dataset_url = 'https://agnitio.emsicloud.com/meta/dataset/EMSI.us.Staffing/2025.1'\n",
    "\n",
    "payload = {\n",
    "    \"metrics\": [{\n",
    "            \"name\": \"Jobs.2023\",\n",
    "            \"as\": \"2023 Jobs\"\n",
    "        }, {\"name\": \"Establishments.2023\"}],\n",
    "    \"constraints\": [\n",
    "        {\n",
    "            \"dimensionName\": \"Area\",\n",
    "            \"map\": {\"Latah County, ID\": [\"16057\"]}\n",
    "        },\n",
    "        {\n",
    "            \"dimensionName\": \"Industry\",\n",
    "            \"map\": {\"Full Service Restaurant s\": [\"722511\"]}\n",
    "        }\n",
    "    ]\n",
    "}\n",
    "headers = {\n",
    "    \"Authorization\": f\"bearer {oath_response['access_token']}\",\n",
    "    \"Content-Type\": \"application/json\"\n",
    "}\n",
    "\n",
    "response = requests.request(\"POST\", dataset_url, json=payload, headers=headers)\n",
    "\n",
    "print(response.text)"
   ]
  },
  {
   "cell_type": "markdown",
   "id": "64a6ab97-8f07-40ea-ad73-829385209c6f",
   "metadata": {},
   "source": [
    "### other\n",
    "docs: "
   ]
  },
  {
   "cell_type": "code",
   "execution_count": null,
   "id": "920bc1db-e55f-4e29-9df5-cd1c1ef50c90",
   "metadata": {},
   "outputs": [],
   "source": [
    "dataset_url = 'https://agnitio.emsicloud.com/meta/dataset/EMSI.us.Staffing/2025.1'\n",
    "\n",
    "payload = {\n",
    "    \"metrics\": [{\n",
    "            \"name\": \"Jobs.2023\",\n",
    "            \"as\": \"2023 Jobs\"\n",
    "        }, {\"name\": \"Establishments.2023\"}],\n",
    "    \"constraints\": [\n",
    "        {\n",
    "            \"dimensionName\": \"Area\",\n",
    "            \"map\": {\"Latah County, ID\": [\"16057\"]}\n",
    "        },\n",
    "        {\n",
    "            \"dimensionName\": \"Industry\",\n",
    "            \"map\": {\"Full Service Restaurant s\": [\"722511\"]}\n",
    "        }\n",
    "    ]\n",
    "}\n",
    "headers = {\n",
    "    \"Authorization\": f\"bearer {oath_response['access_token']}\",\n",
    "    \"Content-Type\": \"application/json\"\n",
    "}\n",
    "\n",
    "response = requests.request(\"POST\", dataset_url, json=payload, headers=headers)\n",
    "\n",
    "print(response.text)"
   ]
  },
  {
   "cell_type": "markdown",
   "id": "0c468239-a049-4019-af68-0c8f004b63f8",
   "metadata": {},
   "source": [
    "# Sandbox"
   ]
  },
  {
   "cell_type": "code",
   "execution_count": 9,
   "id": "1321239c-1d15-406a-971b-af23fa8ddf28",
   "metadata": {},
   "outputs": [],
   "source": [
    "import requests"
   ]
  },
  {
   "cell_type": "code",
   "execution_count": 12,
   "id": "9dc0c41e-63dd-42df-9637-bc3cbf5cd413",
   "metadata": {},
   "outputs": [],
   "source": [
    "dataset_url = 'https://agnitio.emsicloud.com/meta/dataset/EMSI.us.Staffing/2025.1'\n",
    "headers = {\"Authorization\": \"bearer <access_token>\"}\n",
    "response = requests.request(\"GET\", dataset_url, headers=headers)\n",
    "response.text"
   ]
  },
  {
   "cell_type": "code",
   "execution_count": 14,
   "id": "9ca6371d-9bba-466e-941a-10d78a8e9d10",
   "metadata": {},
   "outputs": [
    {
     "data": {
      "text/plain": [
       "''"
      ]
     },
     "execution_count": 14,
     "metadata": {},
     "output_type": "execute_result"
    }
   ],
   "source": [
    "response.text"
   ]
  },
  {
   "cell_type": "code",
   "execution_count": null,
   "id": "c2a02764-583a-440a-bc93-09c78b9fd503",
   "metadata": {},
   "outputs": [],
   "source": [
    "response = requests.request(\"POST\", dataset_url, json=payload)"
   ]
  }
 ],
 "metadata": {
  "kernelspec": {
   "display_name": "Python 3 (ipykernel)",
   "language": "python",
   "name": "python3"
  },
  "language_info": {
   "codemirror_mode": {
    "name": "ipython",
    "version": 3
   },
   "file_extension": ".py",
   "mimetype": "text/x-python",
   "name": "python",
   "nbconvert_exporter": "python",
   "pygments_lexer": "ipython3",
   "version": "3.13.2"
  }
 },
 "nbformat": 4,
 "nbformat_minor": 5
}
